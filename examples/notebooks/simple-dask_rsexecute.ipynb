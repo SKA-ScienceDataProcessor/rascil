{
 "cells": [
  {
   "cell_type": "markdown",
   "metadata": {},
   "source": [
    "# Simple demonstration of the use of rsexecute "
   ]
  },
  {
   "cell_type": "code",
   "execution_count": 1,
   "metadata": {
    "ExecuteTime": {
     "end_time": "2018-08-16T13:15:06.902239Z",
     "start_time": "2018-08-16T13:15:05.524768Z"
    },
    "pycharm": {
     "is_executing": false
    },
    "scrolled": true
   },
   "outputs": [],
   "source": [
    "import os\n",
    "import sys\n",
    "\n",
    "sys.path.append(os.path.join('..','..'))\n",
    "\n",
    "import numpy\n",
    "\n",
    "import astropy.units as u\n",
    "from astropy.coordinates import SkyCoord\n",
    "\n",
    "from rascil.data_models import PolarisationFrame\n",
    "\n",
    "from rascil.processing_components import image_scatter_facets, image_gather_facets, create_test_image\n",
    "from rascil.workflows.rsexecute.execution_support.rsexecute import rsexecute\n",
    "\n",
    "import logging\n",
    "\n",
    "mpl_logger = logging.getLogger(\"matplotlib\") \n",
    "mpl_logger.setLevel(logging.WARNING) "
   ]
  },
  {
   "cell_type": "markdown",
   "metadata": {},
   "source": [
    "Set up rsexecute to use dask. If we are running in docker then the scheduler may be available by name.\n",
    "Otherwise we just create a LocalCluster."
   ]
  },
  {
   "cell_type": "code",
   "execution_count": 2,
   "metadata": {
    "ExecuteTime": {
     "end_time": "2018-08-16T13:15:09.566673Z",
     "start_time": "2018-08-16T13:15:06.904144Z"
    },
    "pycharm": {
     "is_executing": false
    }
   },
   "outputs": [
    {
     "name": "stdout",
     "text": [
      "<Client: 'tcp://127.0.0.1:61915' processes=4 threads=8, memory=17.18 GB>\n"
     ],
     "output_type": "stream"
    }
   ],
   "source": [
    "from dask.distributed import Client, LocalCluster\n",
    "try:\n",
    "    client = Client('scheduler:8786', timeout=10)\n",
    "except OSError:\n",
    "    client =Client(LocalCluster())\n",
    "print(client)\n",
    "\n",
    "rsexecute.set_client(client=client)\n"
   ]
  },
  {
   "cell_type": "code",
   "execution_count": 3,
   "metadata": {
    "ExecuteTime": {
     "end_time": "2018-08-16T13:15:10.591010Z",
     "start_time": "2018-08-16T13:15:09.569820Z"
    },
    "pycharm": {
     "is_executing": false
    },
    "scrolled": true
   },
   "outputs": [],
   "source": [
    "frequency = numpy.array([1e8])\n",
    "phasecentre = SkyCoord(ra=+15.0 * u.deg, dec=-35.0 * u.deg, frame='icrs', equinox='J2000')\n",
    "model_graph = rsexecute.execute(create_test_image)(frequency=frequency, phasecentre=phasecentre, cellsize=0.001,\n",
    "                                         polarisation_frame=PolarisationFrame('stokesI'))\n",
    "model = rsexecute.compute(model_graph, sync=True)"
   ]
  },
  {
   "cell_type": "markdown",
   "metadata": {},
   "source": [
    "Define a simple function to take the square root of an image"
   ]
  },
  {
   "cell_type": "code",
   "execution_count": 4,
   "metadata": {
    "ExecuteTime": {
     "end_time": "2018-08-16T13:15:10.603705Z",
     "start_time": "2018-08-16T13:15:10.593532Z"
    },
    "pycharm": {
     "is_executing": false
    },
    "scrolled": false
   },
   "outputs": [],
   "source": [
    "def imagerooter(im, **kwargs):\n",
    "    im.data = numpy.sqrt(numpy.abs(im.data))\n",
    "    return im\n",
    "\n",
    "facets_graph = rsexecute.execute(image_scatter_facets, nout=16)(model_graph, facets=4)\n",
    "root_graph = [rsexecute.execute(imagerooter)(facet) for facet in facets_graph]\n",
    "gathered = rsexecute.execute(image_gather_facets)(root_graph, model_graph, facets=4)"
   ]
  },
  {
   "cell_type": "markdown",
   "metadata": {},
   "source": [
    "Run the graph directly"
   ]
  },
  {
   "cell_type": "code",
   "execution_count": 5,
   "metadata": {
    "ExecuteTime": {
     "end_time": "2018-08-16T13:15:11.963793Z",
     "start_time": "2018-08-16T13:15:10.608946Z"
    },
    "pycharm": {
     "is_executing": false
    }
   },
   "outputs": [],
   "source": [
    "result = rsexecute.compute(gathered, sync=True)"
   ]
  },
  {
   "cell_type": "markdown",
   "source": [
    "Check the result"
   ],
   "metadata": {
    "collapsed": false,
    "pycharm": {
     "name": "#%% md\n"
    }
   }
  },
  {
   "cell_type": "code",
   "execution_count": 6,
   "outputs": [],
   "source": [
    "numpy.testing.assert_array_almost_equal_nulp(result.data**2, numpy.abs(model.data), 7)"
   ],
   "metadata": {
    "collapsed": false,
    "pycharm": {
     "name": "#%%\n",
     "is_executing": false
    }
   }
  },
  {
   "cell_type": "code",
   "execution_count": 7,
   "metadata": {
    "ExecuteTime": {
     "end_time": "2018-08-16T13:15:12.070128Z",
     "start_time": "2018-08-16T13:15:11.966648Z"
    },
    "pycharm": {
     "is_executing": false
    }
   },
   "outputs": [],
   "source": [
    "rsexecute.close()"
   ]
  }
 ],
 "metadata": {
  "kernelspec": {
   "display_name": "Python 3",
   "language": "python",
   "name": "python3"
  },
  "language_info": {
   "codemirror_mode": {
    "name": "ipython",
    "version": 3
   },
   "file_extension": ".py",
   "mimetype": "text/x-python",
   "name": "python",
   "nbconvert_exporter": "python",
   "pygments_lexer": "ipython3",
   "version": "3.7.3"
  },
  "pycharm": {
   "stem_cell": {
    "cell_type": "raw",
    "source": [],
    "metadata": {
     "collapsed": false
    }
   }
  }
 },
 "nbformat": 4,
 "nbformat_minor": 2
}