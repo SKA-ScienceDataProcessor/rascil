{
 "cells": [
  {
   "cell_type": "markdown",
   "metadata": {},
   "source": [
    "# Find pierce points in an ionosphere"
   ]
  },
  {
   "cell_type": "code",
   "execution_count": null,
   "metadata": {
    "ExecuteTime": {
     "end_time": "2018-11-27T16:18:39.145414Z",
     "start_time": "2018-11-27T16:18:37.291075Z"
    },
    "pycharm": {
     "is_executing": false
    },
    "scrolled": false
   },
   "outputs": [],
   "source": [
    "%matplotlib inline\n",
    "\n",
    "import sys\n",
    "from rascil.data_models import rascil_path, rascil_data_path\n",
    "\n",
    "results_dir = '/tmp/'\n",
    "\n",
    "import numpy\n",
    "\n",
    "from astropy.coordinates import SkyCoord\n",
    "from astropy import units as u\n",
    "\n",
    "from matplotlib import pyplot as plt\n",
    "\n",
    "from rascil.data_models.polarisation import PolarisationFrame\n",
    "\n",
    "from rascil.processing_components import create_blockvisibility, show_image, create_named_configuration, \\\n",
    "    create_low_test_skycomponents_from_gleam, create_low_test_beam, apply_beam_to_skycomponent, \\\n",
    "    create_image_from_visibility, advise_wide_field, convert_blockvisibility_to_visibility, find_pierce_points\n",
    "\n",
    "import logging\n",
    "log = logging.getLogger()\n",
    "log.setLevel(logging.DEBUG)\n",
    "log.addHandler(logging.StreamHandler(sys.stdout))\n",
    "mpl_logger = logging.getLogger(\"matplotlib\") \n",
    "mpl_logger.setLevel(logging.WARNING) \n",
    "\n"
   ]
  },
  {
   "cell_type": "code",
   "execution_count": null,
   "metadata": {
    "ExecuteTime": {
     "end_time": "2018-11-27T16:31:00.729531Z",
     "start_time": "2018-11-27T16:31:00.687081Z"
    },
    "pycharm": {
     "is_executing": false
    }
   },
   "outputs": [],
   "source": [
    "nfreqwin = 1\n",
    "ntimes = 1\n",
    "rmax = 300\n",
    "frequency = numpy.linspace(0.8e8, 1.2e8, nfreqwin)\n",
    "if nfreqwin > 1:\n",
    "    channel_bandwidth = numpy.array(nfreqwin * [frequency[1] - frequency[0]])\n",
    "else:\n",
    "    channel_bandwidth = [0.4e8]\n",
    "times = numpy.linspace(-numpy.pi / 4.0, numpy.pi / 4.0, ntimes)\n",
    "\n",
    "phasecentre = SkyCoord(ra=+0.0 * u.deg, dec=-26.7 * u.deg, frame='icrs', equinox='J2000')\n",
    "lowcore = create_named_configuration('LOWBD2', rmax=rmax)\n",
    "\n",
    "block_vis = create_blockvisibility(lowcore, times, frequency=frequency,\n",
    "                                   channel_bandwidth=channel_bandwidth, weight=1.0, phasecentre=phasecentre,\n",
    "                                   polarisation_frame=PolarisationFrame(\"stokesI\"), zerow=True)\n"
   ]
  },
  {
   "cell_type": "markdown",
   "metadata": {},
   "source": [
    "### Find the station locations in geocentric coordinates"
   ]
  },
  {
   "cell_type": "code",
   "execution_count": null,
   "metadata": {
    "ExecuteTime": {
     "end_time": "2018-11-27T16:31:02.226448Z",
     "start_time": "2018-11-27T16:31:02.223568Z"
    },
    "pycharm": {
     "is_executing": false
    },
    "scrolled": false
   },
   "outputs": [],
   "source": [
    "station_locations = block_vis.configuration.xyz"
   ]
  },
  {
   "cell_type": "code",
   "execution_count": null,
   "metadata": {
    "ExecuteTime": {
     "end_time": "2018-11-27T16:52:16.526262Z",
     "start_time": "2018-11-27T16:52:15.807765Z"
    },
    "pycharm": {
     "is_executing": false
    },
    "scrolled": false
   },
   "outputs": [],
   "source": [
    "from rascil.processing_components.util import xyz_to_uvw\n",
    "\n",
    "local_locations = xyz_to_uvw(station_locations, 0.0, -26.7 * u.deg)\n",
    "\n",
    "ionosphere_height = 3e5\n",
    "plt.clf()\n",
    "plt.plot(local_locations[:, 0], local_locations[:, 1], '.')\n",
    "plt.title('Station locations')\n",
    "plt.show()\n",
    "\n",
    "plt.clf()\n",
    "\n",
    "for ha in numpy.linspace(-numpy.pi / 4.0, +numpy.pi / 4.0, 5):\n",
    "    pp = find_pierce_points(local_locations, ha * u.rad, -45 * u.deg, phasecentre=phasecentre, height=ionosphere_height)\n",
    "    plt.plot(pp[:, 0], pp[:, 1], '.')\n",
    "\n",
    "plt.title('Pierce points for single source')\n",
    "\n",
    "plt.show()\n"
   ]
  },
  {
   "cell_type": "code",
   "execution_count": null,
   "metadata": {
    "ExecuteTime": {
     "end_time": "2018-11-27T16:52:17.587539Z",
     "start_time": "2018-11-27T16:52:17.521483Z"
    },
    "pycharm": {
     "is_executing": false
    },
    "scrolled": false
   },
   "outputs": [],
   "source": [
    "wprojection_planes=1\n",
    "vis = convert_blockvisibility_to_visibility(block_vis)\n",
    "advice=advise_wide_field(vis, guard_band_image=5.0, delA=0.02, \n",
    "                         wprojection_planes=wprojection_planes)\n",
    "\n",
    "vis_slices = advice['vis_slices']\n",
    "npixel=advice['npixels2']\n",
    "cellsize=advice['cellsize']"
   ]
  },
  {
   "cell_type": "markdown",
   "metadata": {},
   "source": [
    "Generate the model from the GLEAM catalog, including application of the primary beam."
   ]
  },
  {
   "cell_type": "code",
   "execution_count": null,
   "metadata": {
    "ExecuteTime": {
     "end_time": "2018-11-27T16:52:33.808028Z",
     "start_time": "2018-11-27T16:52:22.451657Z"
    },
    "pycharm": {
     "is_executing": false
    }
   },
   "outputs": [],
   "source": [
    "beam = create_image_from_visibility(block_vis, npixel=npixel, frequency=frequency,\n",
    "                                    nchan=nfreqwin, cellsize=cellsize, phasecentre=phasecentre)\n",
    "\n",
    "original_gleam_components = create_low_test_skycomponents_from_gleam(flux_limit=0.1,\n",
    "                                                                     phasecentre=phasecentre, frequency=frequency,\n",
    "                                                                     polarisation_frame=PolarisationFrame('stokesI'),\n",
    "                                                                     radius=0.2)\n",
    "\n",
    "beam = create_low_test_beam(beam, use_local=False)\n",
    "pb_gleam_components = apply_beam_to_skycomponent(original_gleam_components, beam)\n",
    "from rascil.processing_components.skycomponent import filter_skycomponents_by_flux\n",
    "\n",
    "pb_gleam_components = filter_skycomponents_by_flux(pb_gleam_components, flux_min=1.0)\n",
    "from matplotlib import pylab\n",
    "\n",
    "pylab.rcParams['figure.figsize'] = (12.0, 12.0)\n",
    "pylab.rcParams['image.cmap'] = 'rainbow'\n",
    "\n",
    "show_image(beam, components=pb_gleam_components, cm='Greys', title='Primary beam plus GLEAM components')\n",
    "print(\"Number of components %d\" % len(pb_gleam_components))\n"
   ]
  },
  {
   "cell_type": "code",
   "execution_count": null,
   "metadata": {
    "ExecuteTime": {
     "end_time": "2018-11-27T16:53:24.068050Z",
     "start_time": "2018-11-27T16:52:33.811198Z"
    },
    "pycharm": {
     "is_executing": false
    }
   },
   "outputs": [],
   "source": [
    "plt.clf()\n",
    "for ha in numpy.linspace(-numpy.pi / 4.0, +numpy.pi / 4.0, 5):\n",
    "    for comp in pb_gleam_components:\n",
    "        pp = find_pierce_points(local_locations, (comp.direction.ra.rad + ha) * u.rad, comp.direction.dec, phasecentre=phasecentre, height=ionosphere_height)\n",
    "        plt.plot(pp[:, 0], pp[:, 1])\n",
    "\n",
    "#plt.xlim([-2.5e5, 2.5e5])\n",
    "#plt.ylim([-2.5e5, 2.5e5])\n",
    "plt.show()\n"
   ]
  }
 ],
 "metadata": {
  "kernelspec": {
   "display_name": "Python 3",
   "language": "python",
   "name": "python3"
  },
  "language_info": {
   "codemirror_mode": {
    "name": "ipython",
    "version": 3
   },
   "file_extension": ".py",
   "mimetype": "text/x-python",
   "name": "python",
   "nbconvert_exporter": "python",
   "pygments_lexer": "ipython3",
   "version": "3.7.3"
  },
  "pycharm": {
   "stem_cell": {
    "cell_type": "raw",
    "source": [],
    "metadata": {
     "collapsed": false
    }
   }
  }
 },
 "nbformat": 4,
 "nbformat_minor": 2
}
