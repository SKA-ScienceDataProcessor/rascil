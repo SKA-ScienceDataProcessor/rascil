{
 "cells": [
  {
   "cell_type": "markdown",
   "metadata": {
    "pycharm": {}
   },
   "source": [
    "# Demonstration of linear mosaic\n",
    "\n",
    "Reads a CASA MeasurementSet containing 7 pointing observation of CASA at 8.4 GHz, forms linear mosaic of dirty images"
   ]
  },
  {
   "cell_type": "code",
   "execution_count": null,
   "metadata": {
    "ExecuteTime": {
     "end_time": "2019-12-09T11:49:42.390761Z",
     "start_time": "2019-12-09T11:49:39.944840Z"
    },
    "pycharm": {
     "is_executing": false
    }
   },
   "outputs": [],
   "source": [
    "%matplotlib inline\n",
    "\n",
    "import os\n",
    "import sys\n",
    "\n",
    "sys.path.append(os.path.join('..', '..'))\n",
    "\n",
    "results_dir = '/tmp/'\n",
    "\n",
    "from matplotlib import pylab\n",
    "\n",
    "import numpy\n",
    "\n",
    "from matplotlib import pyplot as plt\n",
    "\n",
    "from rascil.data_models.polarisation import PolarisationFrame\n",
    "\n",
    "from rascil.data_models.parameters import rascil_path, rascil_data_path\n",
    "\n",
    "from rascil.processing_components import copy_image\n",
    "from rascil.processing_components import  create_visibility_from_ms, show_image, create_pb, create_image_from_visibility, \\\n",
    "    invert_2d\n",
    "\n",
    "import logging\n",
    "\n",
    "log = logging.getLogger()\n",
    "log.setLevel(logging.DEBUG)\n",
    "log.addHandler(logging.StreamHandler(sys.stdout))\n",
    "mpl_logger = logging.getLogger(\"matplotlib\") \n",
    "mpl_logger.setLevel(logging.WARNING) \n"
   ]
  },
  {
   "cell_type": "code",
   "execution_count": null,
   "metadata": {
    "ExecuteTime": {
     "end_time": "2019-12-09T11:49:42.395992Z",
     "start_time": "2019-12-09T11:49:42.393347Z"
    },
    "pycharm": {
     "is_executing": false
    }
   },
   "outputs": [],
   "source": [
    "pylab.rcParams['figure.figsize'] = (12.0, 12.0)\n",
    "pylab.rcParams['image.cmap'] = 'Greys'"
   ]
  },
  {
   "cell_type": "code",
   "execution_count": null,
   "metadata": {
    "ExecuteTime": {
     "end_time": "2019-12-09T11:49:44.361319Z",
     "start_time": "2019-12-09T11:49:42.398070Z"
    },
    "pycharm": {
     "is_executing": false
    },
    "scrolled": false
   },
   "outputs": [],
   "source": [
    "vis_list=create_visibility_from_ms(rascil_data_path('vis/xcasa.ms'))"
   ]
  },
  {
   "cell_type": "code",
   "execution_count": null,
   "metadata": {
    "ExecuteTime": {
     "end_time": "2019-12-09T11:49:47.784348Z",
     "start_time": "2019-12-09T11:49:44.363431Z"
    },
    "pycharm": {
     "is_executing": false
    },
    "scrolled": false
   },
   "outputs": [],
   "source": [
    "# plot the amplitude of the visibility for each field\n",
    "for field, vt in enumerate(vis_list):\n",
    "    uvdist=numpy.sqrt(vt.data['uvw'][:,0]**2+vt.data['uvw'][:,1]**2)\n",
    "    plt.clf()\n",
    "    plt.plot(uvdist, numpy.abs(vt.data['vis']), '.')\n",
    "    plt.xlabel('uvdist')\n",
    "    plt.ylabel('Amp Visibility')\n",
    "    plt.title('Field %d' % (field))\n",
    "    plt.show()"
   ]
  },
  {
   "cell_type": "markdown",
   "metadata": {
    "pycharm": {}
   },
   "source": [
    "Make the dirty images"
   ]
  },
  {
   "cell_type": "code",
   "execution_count": null,
   "metadata": {
    "ExecuteTime": {
     "end_time": "2019-12-09T11:50:08.881473Z",
     "start_time": "2019-12-09T11:49:47.787371Z"
    },
    "pycharm": {
     "is_executing": false
    },
    "scrolled": false
   },
   "outputs": [],
   "source": [
    "cellsize=0.00001\n",
    "\n",
    "mid_frequency = [0.5 * (vis_list[0].frequency[0]+vis_list[1].frequency[0])]\n",
    "total_bandwidth = [vis_list[0].channel_bandwidth[0]+vis_list[1].channel_bandwidth[0]]\n",
    "model = create_image_from_visibility(vis_list[0], cellsize=cellsize, npixel=512, nchan=1,\n",
    "                                     frequency=mid_frequency, channel_bandwidth=total_bandwidth,\n",
    "                                     imagecentre=vis_list[0].phasecentre,\n",
    "                                     polarisation_frame=PolarisationFrame('stokesIQUV'))\n",
    "mosaic = copy_image(model)\n",
    "mosaicsens = copy_image(model)\n",
    "work = copy_image(model)\n",
    "\n",
    "for vt in vis_list:\n",
    "    beam = create_pb(model, telescope='VLA', pointingcentre=vt.phasecentre)\n",
    "    beam.data /= numpy.max(beam.data)\n",
    "    dirty, sumwt = invert_2d(vt, model)\n",
    "    mosaic.data += dirty.data * beam.data\n",
    "    mosaicsens.data += beam.data**2\n",
    "    \n",
    "show_image(mosaic, cm='Greys', title='Linear mosaic')\n",
    "plt.show()\n",
    "show_image(mosaicsens, cm='Greys', title='Linear mosaic sensitivity')\n",
    "plt.show()\n"
   ]
  },
  {
   "cell_type": "code",
   "execution_count": null,
   "metadata": {
    "pycharm": {}
   },
   "outputs": [],
   "source": []
  }
 ],
 "metadata": {
  "kernelspec": {
   "display_name": "Python 3",
   "language": "python",
   "name": "python3"
  },
  "language_info": {
   "codemirror_mode": {
    "name": "ipython",
    "version": 3
   },
   "file_extension": ".py",
   "mimetype": "text/x-python",
   "name": "python",
   "nbconvert_exporter": "python",
   "pygments_lexer": "ipython3",
   "version": "3.7.3"
  },
  "pycharm": {
   "stem_cell": {
    "cell_type": "raw",
    "source": [],
    "metadata": {
     "collapsed": false
    }
   }
  }
 },
 "nbformat": 4,
 "nbformat_minor": 2
}
