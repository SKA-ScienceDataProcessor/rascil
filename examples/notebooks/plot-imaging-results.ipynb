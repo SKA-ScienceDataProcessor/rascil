{
 "cells": [
  {
   "cell_type": "markdown",
   "metadata": {},
   "source": [
    "# Display the images resulting from tests"
   ]
  },
  {
   "cell_type": "code",
   "execution_count": null,
   "metadata": {
    "ExecuteTime": {
     "end_time": "2018-03-31T09:30:18.690947Z",
     "start_time": "2018-03-31T09:30:16.945391Z"
    }
   },
   "outputs": [],
   "source": [
    "%matplotlib inline\n",
    "\n",
    "import os\n",
    "import sys\n",
    "\n",
    "sys.path.append(os.path.join('..', '..'))\n",
    "\n",
    "from matplotlib import pylab\n",
    "import numpy\n",
    "from matplotlib import pyplot as plt\n",
    "\n",
    "from rascil.data_models.parameters import rascil_path, rascil_data_path\n",
    "from rascil.processing_components.image.operations import show_image, qa_image, import_image_from_fits\n",
    "\n",
    "import logging\n",
    "\n",
    "log = logging.getLogger()\n",
    "log.setLevel(logging.INFO)\n",
    "log.addHandler(logging.StreamHandler(sys.stdout))"
   ]
  },
  {
   "cell_type": "markdown",
   "metadata": {},
   "source": [
    "Look for empty files"
   ]
  },
  {
   "cell_type": "code",
   "execution_count": null,
   "metadata": {
    "ExecuteTime": {
     "end_time": "2018-03-31T10:43:25.333405Z",
     "start_time": "2018-03-31T10:43:14.717912Z"
    },
    "scrolled": false
   },
   "outputs": [],
   "source": [
    "pylab.rcParams['figure.figsize'] = (12.0, 12.0)\n",
    "pylab.rcParams['image.cmap'] = 'rainbow'\n",
    "\n",
    "\n",
    "fits_files = []\n",
    "results_dir = rascil_path('tests/test_results')\n",
    "for file in os.listdir(results_dir):\n",
    "    if file.endswith(\".fits\"):\n",
    "        fits_files.append(file)\n",
    "        \n",
    "fits_files = numpy.sort(fits_files)\n",
    "\n",
    "empty = list()\n",
    "for file in fits_files:\n",
    "    im = import_image_from_fits('test_results/%s' % file)\n",
    "    if numpy.max(numpy.abs(im.data)) == 0.0:\n",
    "        empty.append(file)\n",
    "\n",
    "import pprint\n",
    "p=pprint.PrettyPrinter()\n",
    "print(\"The following files are empty:\")  \n",
    "p.pprint(empty)   "
   ]
  },
  {
   "cell_type": "markdown",
   "metadata": {},
   "source": [
    "Display all files"
   ]
  },
  {
   "cell_type": "code",
   "execution_count": null,
   "metadata": {},
   "outputs": [],
   "source": [
    "for file in fits_files:\n",
    "    print('******************************************************************')\n",
    "\n",
    "    im = import_image_from_fits('tests/test_results/%s' % file)\n",
    "    print(qa_image(im, context=file))\n",
    "    try:\n",
    "        show_image(im, title=file)\n",
    "        plt.show()\n",
    "    except IndexError:\n",
    "        pass\n"
   ]
  },
  {
   "cell_type": "code",
   "execution_count": null,
   "metadata": {},
   "outputs": [],
   "source": []
  }
 ],
 "metadata": {
  "kernelspec": {
   "display_name": "Python 3",
   "language": "python",
   "name": "python3"
  },
  "language_info": {
   "codemirror_mode": {
    "name": "ipython",
    "version": 3
   },
   "file_extension": ".py",
   "mimetype": "text/x-python",
   "name": "python",
   "nbconvert_exporter": "python",
   "pygments_lexer": "ipython3",
   "version": "3.6.1"
  }
 },
 "nbformat": 4,
 "nbformat_minor": 2
}
